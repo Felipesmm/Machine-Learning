{
  "cells": [
    {
      "metadata": {
        "trusted": true
      },
      "cell_type": "code",
      "source": "from sklearn import datasets\n\ndigits = datasets.load_digits()\nprint('digits.images: ' + str(digits.images.shape))\nprint('digits.target: ' + str(digits.target.shape))",
      "execution_count": 1,
      "outputs": [
        {
          "output_type": "stream",
          "text": "digits.images: (1797, 8, 8)\ndigits.target: (1797,)\n",
          "name": "stdout"
        }
      ]
    },
    {
      "metadata": {
        "trusted": true,
        "scrolled": true
      },
      "cell_type": "code",
      "source": "digits.images[0]",
      "execution_count": 2,
      "outputs": [
        {
          "output_type": "execute_result",
          "execution_count": 2,
          "data": {
            "text/plain": "array([[ 0.,  0.,  5., 13.,  9.,  1.,  0.,  0.],\n       [ 0.,  0., 13., 15., 10., 15.,  5.,  0.],\n       [ 0.,  3., 15.,  2.,  0., 11.,  8.,  0.],\n       [ 0.,  4., 12.,  0.,  0.,  8.,  8.,  0.],\n       [ 0.,  5.,  8.,  0.,  0.,  9.,  8.,  0.],\n       [ 0.,  4., 11.,  0.,  1., 12.,  7.,  0.],\n       [ 0.,  2., 14.,  5., 10., 12.,  0.,  0.],\n       [ 0.,  0.,  6., 13., 10.,  0.,  0.,  0.]])"
          },
          "metadata": {}
        }
      ]
    },
    {
      "metadata": {
        "trusted": true
      },
      "cell_type": "code",
      "source": "%matplotlib inline\nimport matplotlib.pyplot as plt\n\nplt.tick_params(axis='both', which='both', bottom=False, top=False, left=False, right=False, labelbottom=False, labelleft=False)\nplt.imshow(digits.images[0], cmap=plt.cm.gray_r)",
      "execution_count": 3,
      "outputs": [
        {
          "output_type": "execute_result",
          "execution_count": 3,
          "data": {
            "text/plain": "<matplotlib.image.AxesImage at 0x7f0b64576908>"
          },
          "metadata": {}
        },
        {
          "output_type": "display_data",
          "data": {
            "image/png": "[encoded data removed]",
            "text/plain": "<Figure size 432x288 with 1 Axes>"
          },
          "metadata": {}
        }
      ]
    },
    {
      "metadata": {
        "trusted": true
      },
      "cell_type": "code",
      "source": "digits.target[0]",
      "execution_count": 4,
      "outputs": [
        {
          "output_type": "execute_result",
          "execution_count": 4,
          "data": {
            "text/plain": "0"
          },
          "metadata": {}
        }
      ]
    },
    {
      "metadata": {
        "trusted": true
      },
      "cell_type": "code",
      "source": "# Plot the first 50 images and show the corresponding labels\nfig, axes = plt.subplots(5, 10, figsize=(12, 7), subplot_kw={'xticks': [], 'yticks': []})\n\nfor i, ax in enumerate(axes.flat):\n    ax.imshow(digits.images[i], cmap=plt.cm.gray_r)\n    ax.text(0.45, 1.05, str(digits.target[i]), transform=ax.transAxes)",
      "execution_count": 5,
      "outputs": [
        {
          "output_type": "display_data",
          "data": {
            "image/png": "[encoded data removed]",
            "text/plain": "<Figure size 864x504 with 50 Axes>"
          },
          "metadata": {}
        }
      ]
    },
    {
      "metadata": {
        "trusted": true
      },
      "cell_type": "code",
      "source": "# Plot the distribution of the samples\nplt.xticks([])\nplt.hist(digits.target, rwidth=0.9)",
      "execution_count": 6,
      "outputs": [
        {
          "output_type": "execute_result",
          "execution_count": 6,
          "data": {
            "text/plain": "(array([178., 182., 177., 183., 181., 182., 181., 179., 174., 180.]),\n array([0. , 0.9, 1.8, 2.7, 3.6, 4.5, 5.4, 6.3, 7.2, 8.1, 9. ]),\n <a list of 10 Patch objects>)"
          },
          "metadata": {}
        },
        {
          "output_type": "display_data",
          "data": {
            "image/png": "[encoded data removed]",
            "text/plain": "<Figure size 432x288 with 1 Axes>"
          },
          "metadata": {
            "needs_background": "light"
          }
        }
      ]
    },
    {
      "metadata": {
        "trusted": true
      },
      "cell_type": "code",
      "source": "# Train a logistic-regression classifier\nfrom sklearn.linear_model import LogisticRegression\nfrom sklearn.model_selection import train_test_split\n\nn_samples = len(digits.images)\ndata = digits.images.reshape((n_samples, -1)) # Flatten 2D 8x8 arrays of pixel values into 1D arrays\nx_train, x_test, y_train, y_test = train_test_split(data, digits.target, test_size=0.2, random_state=0)\n\nmodel = LogisticRegression()\nmodel.fit(x_train, y_train)",
      "execution_count": 7,
      "outputs": [
        {
          "output_type": "execute_result",
          "execution_count": 7,
          "data": {
            "text/plain": "LogisticRegression(C=1.0, class_weight=None, dual=False, fit_intercept=True,\n          intercept_scaling=1, max_iter=100, multi_class='ovr', n_jobs=1,\n          penalty='l2', random_state=None, solver='liblinear', tol=0.0001,\n          verbose=0, warm_start=False)"
          },
          "metadata": {}
        }
      ]
    },
    {
      "metadata": {
        "trusted": true
      },
      "cell_type": "code",
      "source": "# Show the confusion matrix\nfrom sklearn.metrics import confusion_matrix\n\nconfusion_matrix(y_test, model.predict(x_test))",
      "execution_count": 8,
      "outputs": [
        {
          "output_type": "execute_result",
          "execution_count": 8,
          "data": {
            "text/plain": "array([[27,  0,  0,  0,  0,  0,  0,  0,  0,  0],\n       [ 0, 31,  0,  0,  0,  0,  1,  0,  3,  0],\n       [ 0,  0, 34,  2,  0,  0,  0,  0,  0,  0],\n       [ 0,  0,  0, 29,  0,  0,  0,  0,  0,  0],\n       [ 0,  0,  0,  0, 30,  0,  0,  0,  0,  0],\n       [ 0,  0,  0,  0,  0, 39,  0,  0,  0,  1],\n       [ 0,  1,  0,  0,  0,  0, 43,  0,  0,  0],\n       [ 0,  1,  0,  0,  1,  0,  0, 37,  0,  0],\n       [ 0,  2,  1,  0,  0,  0,  0,  0, 35,  1],\n       [ 0,  0,  0,  1,  0,  1,  0,  0,  2, 37]])"
          },
          "metadata": {}
        }
      ]
    },
    {
      "metadata": {
        "trusted": true
      },
      "cell_type": "code",
      "source": "# Show the accuracy of the model\nmodel.score(x_test, y_test)",
      "execution_count": 9,
      "outputs": [
        {
          "output_type": "execute_result",
          "execution_count": 9,
          "data": {
            "text/plain": "0.95"
          },
          "metadata": {}
        }
      ]
    },
    {
      "metadata": {
        "trusted": true
      },
      "cell_type": "code",
      "source": "# Show additional accuracy metrics\nfrom sklearn.metrics import accuracy_score\nfrom sklearn.metrics import precision_score\nfrom sklearn.metrics import recall_score\nfrom sklearn.metrics import f1_score\nfrom sklearn.metrics import roc_auc_score\n\ny_pred = model.predict(x_test)\n\nprint('Accuracy: ' + str(accuracy_score(y_test, y_pred)))\nprint('Precision: ' + str(precision_score(y_test, y_pred, average=None).mean()))\nprint('Recall: ' + str(recall_score(y_test, y_pred, average=None).mean()))\nprint('F1 score: ' + str(f1_score(y_test, y_pred, average=None).mean()))",
      "execution_count": 10,
      "outputs": [
        {
          "output_type": "stream",
          "text": "Accuracy: 0.95\nPrecision: 0.9507125468617404\nRecall: 0.9531024327975548\nF1 score: 0.9514919881261854\n",
          "name": "stdout"
        }
      ]
    },
    {
      "metadata": {
        "trusted": true
      },
      "cell_type": "code",
      "source": "",
      "execution_count": null,
      "outputs": []
    }
  ],
  "metadata": {
    "kernelspec": {
      "name": "python36",
      "display_name": "Python 3.6",
      "language": "python"
    },
    "language_info": {
      "mimetype": "text/x-python",
      "nbconvert_exporter": "python",
      "name": "python",
      "pygments_lexer": "ipython3",
      "version": "3.6.6",
      "file_extension": ".py",
      "codemirror_mode": {
        "version": 3,
        "name": "ipython"
      }
    }
  },
  "nbformat": 4,
  "nbformat_minor": 2
}