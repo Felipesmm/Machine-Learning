{
  "cells": [
    {
      "metadata": {
        "trusted": true
      },
      "cell_type": "code",
      "source": "# Load the pickled model and the vocabulary that goes with it\nimport pickle\nfrom sklearn.feature_extraction.text import CountVectorizer\n\nmodel = pickle.load(open('sentiment_analysis.pkl', 'rb'))\nvectorizer = CountVectorizer(ngram_range=(1, 2), stop_words=['the', 'and', 'am', 'are'], vocabulary=pickle.load(open('vocabulary.pkl', 'rb')))\nvectorizer._validate_vocabulary()",
      "execution_count": 1,
      "outputs": []
    },
    {
      "metadata": {
        "trusted": true
      },
      "cell_type": "code",
      "source": "# Define a function that takes a string as input and returns a sentiment score\nimport re\n\ndef analyze_text(text, model, vectorizer):\n    text = re.sub(\"[.;:!\\'?,\\\"()\\[\\]]\", '', text.lower())\n    text = re.sub(\"(<br\\s*/><br\\s*/>)|(\\-)|(\\/)\", ' ', text)\n    return model.predict_proba(vectorizer.transform([text]))[0][1]",
      "execution_count": 2,
      "outputs": []
    },
    {
      "metadata": {
        "trusted": true
      },
      "cell_type": "code",
      "source": "# Score a text string\nanalyze_text('The best hike in the United States. Fun!', model, vectorizer)",
      "execution_count": 3,
      "outputs": [
        {
          "output_type": "execute_result",
          "execution_count": 3,
          "data": {
            "text/plain": "0.813449616387299"
          },
          "metadata": {}
        }
      ]
    },
    {
      "metadata": {
        "trusted": true
      },
      "cell_type": "code",
      "source": "# Score another text string\nanalyze_text('The long lines and poor customer service really turned me off', model, vectorizer)",
      "execution_count": 4,
      "outputs": [
        {
          "output_type": "execute_result",
          "execution_count": 4,
          "data": {
            "text/plain": "0.15456181390302676"
          },
          "metadata": {}
        }
      ]
    },
    {
      "metadata": {
        "trusted": true
      },
      "cell_type": "code",
      "source": "",
      "execution_count": null,
      "outputs": []
    }
  ],
  "metadata": {
    "kernelspec": {
      "name": "python36",
      "display_name": "Python 3.6",
      "language": "python"
    },
    "language_info": {
      "mimetype": "text/x-python",
      "nbconvert_exporter": "python",
      "name": "python",
      "pygments_lexer": "ipython3",
      "version": "3.6.6",
      "file_extension": ".py",
      "codemirror_mode": {
        "version": 3,
        "name": "ipython"
      }
    }
  },
  "nbformat": 4,
  "nbformat_minor": 2
}